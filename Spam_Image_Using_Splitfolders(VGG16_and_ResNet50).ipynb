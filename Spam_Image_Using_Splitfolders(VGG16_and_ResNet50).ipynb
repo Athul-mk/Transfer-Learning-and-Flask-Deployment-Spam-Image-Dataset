{
  "cells": [
    {
      "cell_type": "code",
      "execution_count": null,
      "metadata": {
        "colab": {
          "base_uri": "https://localhost:8080/"
        },
        "id": "5j2jwGo4j8hB",
        "outputId": "0e56c52d-174a-4fb8-ed60-d82cd4fae87f"
      },
      "outputs": [
        {
          "data": {
            "text/plain": [
              "['/content/drive/MyDrive/SPAM IMAGE dataset2/val',\n",
              " '/content/drive/MyDrive/SPAM IMAGE dataset2/test',\n",
              " '/content/drive/MyDrive/SPAM IMAGE dataset2/train']"
            ]
          },
          "execution_count": 1,
          "metadata": {},
          "output_type": "execute_result"
        }
      ],
      "source": [
        "import glob\n",
        "data='/content/drive/MyDrive/SPAM IMAGE dataset2'\n",
        "image=glob.glob(data+'/*')\n",
        "image"
      ]
    },
    {
      "cell_type": "code",
      "execution_count": null,
      "metadata": {
        "id": "AZic0jK6Ys-i"
      },
      "outputs": [],
      "source": [
        "import tensorflow as tf\n",
        "from tensorflow.keras.preprocessing.image import ImageDataGenerator\n",
        "from tensorflow.keras.applications import VGG16\n",
        "from tensorflow.keras.layers import Dense,GlobalAveragePooling2D\n",
        "from tensorflow.keras.models import Model\n",
        "from tensorflow.keras.optimizers import Adam"
      ]
    },
    {
      "cell_type": "code",
      "execution_count": null,
      "metadata": {
        "id": "nflMMuNwj6q_"
      },
      "outputs": [],
      "source": [
        "train_dir = '/content/drive/MyDrive/SPAM IMAGE dataset2/train'\n",
        "validation_dir = '/content/drive/MyDrive/SPAM IMAGE dataset2/val'"
      ]
    },
    {
      "cell_type": "code",
      "execution_count": null,
      "metadata": {
        "id": "I9jJYa0sj5mO"
      },
      "outputs": [],
      "source": [
        "img_size=(224, 224)\n",
        "batch_size=32"
      ]
    },
    {
      "cell_type": "code",
      "execution_count": null,
      "metadata": {
        "id": "VFCoYSwribYZ"
      },
      "outputs": [],
      "source": [
        "train_datagen=ImageDataGenerator(\n",
        "    rescale=1./255,\n",
        "    shear_range=0.2,\n",
        "    zoom_range=0.2,\n",
        "    horizontal_flip=True\n",
        ")"
      ]
    },
    {
      "cell_type": "code",
      "execution_count": null,
      "metadata": {
        "colab": {
          "base_uri": "https://localhost:8080/"
        },
        "id": "mduFMKI7kYyG",
        "outputId": "fe296c06-f2ff-4aa5-b76b-6206e825994d"
      },
      "outputs": [
        {
          "name": "stdout",
          "output_type": "stream",
          "text": [
            "Found 858 images belonging to 2 classes.\n"
          ]
        }
      ],
      "source": [
        "train_generator=train_datagen.flow_from_directory(\n",
        "    train_dir,\n",
        "    target_size=img_size,\n",
        "    batch_size=batch_size,\n",
        "    class_mode='binary'\n",
        ")"
      ]
    },
    {
      "cell_type": "code",
      "execution_count": null,
      "metadata": {
        "id": "kea5za-Hy3AA"
      },
      "outputs": [],
      "source": [
        "validation_datagen=ImageDataGenerator(rescale=1./255)"
      ]
    },
    {
      "cell_type": "code",
      "execution_count": null,
      "metadata": {
        "colab": {
          "base_uri": "https://localhost:8080/"
        },
        "id": "mj8Kf4-ClOoC",
        "outputId": "b189c3fc-914d-457b-ad2b-44863669a87e"
      },
      "outputs": [
        {
          "name": "stdout",
          "output_type": "stream",
          "text": [
            "Found 349 images belonging to 2 classes.\n"
          ]
        }
      ],
      "source": [
        "validation_generator = validation_datagen.flow_from_directory(\n",
        "    validation_dir,\n",
        "    target_size=img_size,\n",
        "    batch_size=batch_size,\n",
        "    class_mode='binary'\n",
        ")"
      ]
    },
    {
      "cell_type": "code",
      "execution_count": null,
      "metadata": {
        "colab": {
          "base_uri": "https://localhost:8080/"
        },
        "id": "As7loLqllTK0",
        "outputId": "34fd6a8d-8a33-44b7-be00-2e12fd807728"
      },
      "outputs": [
        {
          "name": "stdout",
          "output_type": "stream",
          "text": [
            "Downloading data from https://storage.googleapis.com/tensorflow/keras-applications/vgg16/vgg16_weights_tf_dim_ordering_tf_kernels_notop.h5\n",
            "58889256/58889256 [==============================] - 0s 0us/step\n"
          ]
        }
      ],
      "source": [
        "base_model=VGG16(weights='imagenet',include_top=False,input_shape=(224,224,3))"
      ]
    },
    {
      "cell_type": "code",
      "execution_count": null,
      "metadata": {
        "id": "h7ccZy8slhiM"
      },
      "outputs": [],
      "source": [
        "x=base_model.output\n",
        "x=GlobalAveragePooling2D()(x)\n",
        "x=Dense(128,activation='relu')(x)\n",
        "predictions=Dense(1,activation='sigmoid')(x)"
      ]
    },
    {
      "cell_type": "code",
      "execution_count": null,
      "metadata": {
        "id": "Il-CrwdWlm2z"
      },
      "outputs": [],
      "source": [
        "model=Model(inputs=base_model.input,outputs=predictions)"
      ]
    },
    {
      "cell_type": "code",
      "execution_count": null,
      "metadata": {
        "id": "9D4Kp7_EmCfQ"
      },
      "outputs": [],
      "source": [
        "for layer in base_model.layers:\n",
        "  layer.trainable=False"
      ]
    },
    {
      "cell_type": "code",
      "execution_count": null,
      "metadata": {
        "colab": {
          "base_uri": "https://localhost:8080/"
        },
        "id": "J-txGTNUmJSq",
        "outputId": "d9431752-57da-4636-cb85-24b6ce6ba798"
      },
      "outputs": [
        {
          "name": "stderr",
          "output_type": "stream",
          "text": [
            "WARNING:absl:`lr` is deprecated in Keras optimizer, please use `learning_rate` or use the legacy optimizer, e.g.,tf.keras.optimizers.legacy.Adam.\n"
          ]
        }
      ],
      "source": [
        "model.compile(optimizer=Adam(lr=0.001), loss='binary_crossentropy', metrics=['accuracy'])\n"
      ]
    },
    {
      "cell_type": "code",
      "execution_count": null,
      "metadata": {
        "colab": {
          "background_save": true,
          "base_uri": "https://localhost:8080/"
        },
        "id": "Yl1MF_5AmO6P",
        "outputId": "aa539b69-f591-4bf8-d1f5-8e271fcceb1d"
      },
      "outputs": [
        {
          "name": "stdout",
          "output_type": "stream",
          "text": [
            "Epoch 1/10\n",
            "26/26 [==============================] - 471s 18s/step - loss: 0.3140 - accuracy: 0.8293 - val_loss: 0.1078 - val_accuracy: 0.9844\n",
            "Epoch 2/10\n",
            "26/26 [==============================] - 464s 18s/step - loss: 0.1004 - accuracy: 0.9734 - val_loss: 0.0646 - val_accuracy: 0.9906\n",
            "Epoch 3/10\n",
            "26/26 [==============================] - 442s 17s/step - loss: 0.0931 - accuracy: 0.9734 - val_loss: 0.0609 - val_accuracy: 0.9875\n",
            "Epoch 4/10\n",
            "26/26 [==============================] - 439s 17s/step - loss: 0.0798 - accuracy: 0.9758 - val_loss: 0.0599 - val_accuracy: 0.9875\n",
            "Epoch 5/10\n",
            "26/26 [==============================] - 439s 17s/step - loss: 0.0727 - accuracy: 0.9818 - val_loss: 0.0566 - val_accuracy: 0.9906\n",
            "Epoch 6/10\n",
            "26/26 [==============================] - 437s 17s/step - loss: 0.0740 - accuracy: 0.9818 - val_loss: 0.0579 - val_accuracy: 0.9906\n",
            "Epoch 7/10\n",
            "26/26 [==============================] - 437s 17s/step - loss: 0.0656 - accuracy: 0.9794 - val_loss: 0.0558 - val_accuracy: 0.9844\n",
            "Epoch 8/10\n",
            "26/26 [==============================] - 437s 17s/step - loss: 0.0605 - accuracy: 0.9818 - val_loss: 0.0572 - val_accuracy: 0.9812\n",
            "Epoch 9/10\n",
            "26/26 [==============================] - 459s 18s/step - loss: 0.0511 - accuracy: 0.9843 - val_loss: 0.0592 - val_accuracy: 0.9812\n",
            "Epoch 10/10\n",
            "26/26 [==============================] - 438s 17s/step - loss: 0.0546 - accuracy: 0.9806 - val_loss: 0.0548 - val_accuracy: 0.9844\n"
          ]
        }
      ],
      "source": [
        "history=model.fit(\n",
        "    train_generator,\n",
        "    steps_per_epoch=train_generator.samples//batch_size,\n",
        "    epochs=10,\n",
        "    validation_data=validation_generator,\n",
        "    validation_steps=validation_generator.samples//batch_size\n",
        ")"
      ]
    },
    {
      "cell_type": "code",
      "execution_count": null,
      "metadata": {
        "colab": {
          "background_save": true
        },
        "id": "x7T78ST4oIN4"
      },
      "outputs": [],
      "source": []
    },
    {
      "cell_type": "code",
      "execution_count": null,
      "metadata": {
        "colab": {
          "background_save": true,
          "base_uri": "https://localhost:8080/"
        },
        "id": "fbW597WDoKHd",
        "outputId": "154177ec-1a40-4c2f-edec-b102c3d27bd0"
      },
      "outputs": [
        {
          "name": "stderr",
          "output_type": "stream",
          "text": [
            "/usr/local/lib/python3.10/dist-packages/keras/src/engine/training.py:3103: UserWarning: You are saving your model as an HDF5 file via `model.save()`. This file format is considered legacy. We recommend using instead the native Keras format, e.g. `model.save('my_model.keras')`.\n",
            "  saving_api.save_model(\n"
          ]
        }
      ],
      "source": [
        "model.save('Spam Image Filter.h5')"
      ]
    },
    {
      "cell_type": "code",
      "execution_count": null,
      "metadata": {
        "colab": {
          "background_save": true
        },
        "id": "CRMR8mjPoSja"
      },
      "outputs": [],
      "source": [
        "import tensorflow as tf\n",
        "from tensorflow.keras.preprocessing import image\n",
        "import numpy as np"
      ]
    },
    {
      "cell_type": "code",
      "execution_count": null,
      "metadata": {
        "colab": {
          "background_save": true
        },
        "id": "jKhrymNCoc96"
      },
      "outputs": [],
      "source": [
        "def preprocess_image(image_path):\n",
        "  img=image.load_img(image_path,target_size=(224,224))\n",
        "  img_array=image.img_to_array(img)\n",
        "  img_array=np.expand_dims(img_array,axis=0)\n",
        "  return img_array"
      ]
    },
    {
      "cell_type": "code",
      "execution_count": null,
      "metadata": {
        "colab": {
          "background_save": true,
          "base_uri": "https://localhost:8080/"
        },
        "id": "h3_v5ffoqudA",
        "outputId": "5a9900aa-5947-442e-f179-3b5f8d1ac84a"
      },
      "outputs": [
        {
          "name": "stdout",
          "output_type": "stream",
          "text": [
            "1/1 [==============================] - 1s 560ms/step\n",
            "The Image is NOT SPAM\n"
          ]
        }
      ],
      "source": [
        "def predict_spam(image_path):\n",
        "  processed_img=preprocess_image(image_path)\n",
        "  prediction=model.predict(processed_img)\n",
        "  return prediction[0][0]\n",
        "\n",
        "upload_path=('/content/drive/MyDrive/SPAM IMAGE dataset2/train/NaturalImages/zzz_01364_c5da02e24f_m.jpg')\n",
        "prediction_result=predict_spam(upload_path)\n",
        "spam_threshold=0.8\n",
        "if prediction_result>=spam_threshold:\n",
        "  print('The Image is SPAM')\n",
        "else:\n",
        "  print('The Image is NOT SPAM')"
      ]
    },
    {
      "cell_type": "code",
      "execution_count": null,
      "metadata": {
        "colab": {
          "background_save": true
        },
        "id": "jxPal9IYsgvu"
      },
      "outputs": [],
      "source": [
        "## ResNet50"
      ]
    },
    {
      "cell_type": "code",
      "execution_count": null,
      "metadata": {
        "colab": {
          "background_save": true
        },
        "id": "32tWOptrtRPi"
      },
      "outputs": [],
      "source": [
        "from tensorflow.keras.layers import Input, Lambda, Dense, Flatten\n",
        "from tensorflow.keras.models import Model\n",
        "from tensorflow.keras.applications.resnet50 import ResNet50\n",
        "from tensorflow.keras.applications.resnet50 import preprocess_input\n",
        "from tensorflow.keras.preprocessing import image\n",
        "from tensorflow.keras.preprocessing.image import ImageDataGenerator,load_img\n",
        "from tensorflow.keras.models import Sequential\n",
        "import numpy as np\n",
        "from glob import glob"
      ]
    },
    {
      "cell_type": "code",
      "execution_count": null,
      "metadata": {
        "colab": {
          "background_save": true
        },
        "id": "ixd07roVtTWd"
      },
      "outputs": [],
      "source": [
        "train_dir='/content/drive/MyDrive/SPAM IMAGE dataset2/train'\n",
        "validation_dir='/content/drive/MyDrive/SPAM IMAGE dataset2/val'"
      ]
    },
    {
      "cell_type": "code",
      "execution_count": null,
      "metadata": {
        "colab": {
          "background_save": true
        },
        "id": "NvkkujUftaIN"
      },
      "outputs": [],
      "source": [
        "img_size=(224,224)\n",
        "batch_size=50"
      ]
    },
    {
      "cell_type": "code",
      "execution_count": null,
      "metadata": {
        "colab": {
          "background_save": true
        },
        "id": "D5LLueN2tj7Z"
      },
      "outputs": [],
      "source": [
        "train_datagen=ImageDataGenerator(\n",
        "    rescale=1./255,\n",
        "    shear_range=0.2,\n",
        "    zoom_range=0.2,\n",
        "    horizontal_flip=True\n",
        ")"
      ]
    },
    {
      "cell_type": "code",
      "execution_count": null,
      "metadata": {
        "colab": {
          "background_save": true,
          "base_uri": "https://localhost:8080/"
        },
        "id": "BEugkZcStsMk",
        "outputId": "3faf2bab-f0c0-4b9e-d54a-c101fb130e19"
      },
      "outputs": [
        {
          "name": "stdout",
          "output_type": "stream",
          "text": [
            "Found 858 images belonging to 2 classes.\n"
          ]
        }
      ],
      "source": [
        "train_generator=train_datagen.flow_from_directory(\n",
        "    train_dir,\n",
        "    target_size=img_size,\n",
        "    batch_size=batch_size,\n",
        "    class_mode='binary'\n",
        ")"
      ]
    },
    {
      "cell_type": "code",
      "execution_count": null,
      "metadata": {
        "colab": {
          "background_save": true
        },
        "id": "FtjKPIoit3Iu"
      },
      "outputs": [],
      "source": [
        "validation_datagen=ImageDataGenerator(rescale=1./255)\n",
        "\n"
      ]
    },
    {
      "cell_type": "code",
      "execution_count": null,
      "metadata": {
        "colab": {
          "background_save": true,
          "base_uri": "https://localhost:8080/"
        },
        "id": "v6yVL3dst6Xl",
        "outputId": "4373203c-282f-4e65-96a6-2cd69be517ea"
      },
      "outputs": [
        {
          "name": "stdout",
          "output_type": "stream",
          "text": [
            "Found 349 images belonging to 2 classes.\n"
          ]
        }
      ],
      "source": [
        "validation_generator=validation_datagen.flow_from_directory(\n",
        "    validation_dir,\n",
        "    target_size=img_size,\n",
        "    batch_size=batch_size,\n",
        "    class_mode='binary'\n",
        ")"
      ]
    },
    {
      "cell_type": "code",
      "execution_count": null,
      "metadata": {
        "colab": {
          "background_save": true,
          "base_uri": "https://localhost:8080/"
        },
        "id": "K-UU9EVsuA_h",
        "outputId": "8552a8b1-0712-4a1e-b294-ce581da03bcf"
      },
      "outputs": [
        {
          "name": "stdout",
          "output_type": "stream",
          "text": [
            "Downloading data from https://storage.googleapis.com/tensorflow/keras-applications/resnet/resnet50_weights_tf_dim_ordering_tf_kernels_notop.h5\n",
            "94765736/94765736 [==============================] - 0s 0us/step\n"
          ]
        }
      ],
      "source": [
        "base_model=ResNet50(weights='imagenet',include_top=False,input_shape=(224,224,3))"
      ]
    },
    {
      "cell_type": "code",
      "execution_count": null,
      "metadata": {
        "colab": {
          "background_save": true
        },
        "id": "W6yRUShyuGw8"
      },
      "outputs": [],
      "source": [
        "x=base_model.output\n",
        "x=GlobalAveragePooling2D()(x)\n",
        "x=Dense(128, activation='relu')(x)\n",
        "predictions=Dense(1, activation='sigmoid')(x)"
      ]
    },
    {
      "cell_type": "code",
      "execution_count": null,
      "metadata": {
        "colab": {
          "background_save": true
        },
        "id": "iUJ4xmeeuJJw"
      },
      "outputs": [],
      "source": [
        "model=Model(inputs=base_model.input, outputs=predictions)"
      ]
    },
    {
      "cell_type": "code",
      "execution_count": null,
      "metadata": {
        "colab": {
          "background_save": true
        },
        "id": "EVjdTQ_AuZ-u"
      },
      "outputs": [],
      "source": [
        "for layer in base_model.layers:\n",
        "    layer.trainable = False"
      ]
    },
    {
      "cell_type": "code",
      "execution_count": null,
      "metadata": {
        "colab": {
          "background_save": true,
          "base_uri": "https://localhost:8080/"
        },
        "id": "uybdvgjvucTQ",
        "outputId": "09891ab4-7970-41cd-d8ec-d5bd0e2c1e49"
      },
      "outputs": [
        {
          "name": "stderr",
          "output_type": "stream",
          "text": [
            "WARNING:absl:`lr` is deprecated in Keras optimizer, please use `learning_rate` or use the legacy optimizer, e.g.,tf.keras.optimizers.legacy.Adam.\n"
          ]
        }
      ],
      "source": [
        "model.compile(optimizer=Adam(lr=0.001),loss='binary_crossentropy', metrics=['accuracy'])"
      ]
    },
    {
      "cell_type": "code",
      "execution_count": null,
      "metadata": {
        "colab": {
          "base_uri": "https://localhost:8080/"
        },
        "id": "ARV16YRZufLb",
        "outputId": "fafbbe2f-4a1d-49fa-dd66-cfe66e990b2b"
      },
      "outputs": [
        {
          "name": "stdout",
          "output_type": "stream",
          "text": [
            "Epoch 1/10\n",
            "17/17 [==============================] - 23s 909ms/step - loss: 0.5647 - accuracy: 0.6881 - val_loss: 0.5253 - val_accuracy: 0.8533\n",
            "Epoch 2/10\n",
            "17/17 [==============================] - 15s 862ms/step - loss: 0.4328 - accuracy: 0.8144 - val_loss: 0.4170 - val_accuracy: 0.8333\n",
            "Epoch 3/10\n",
            "17/17 [==============================] - 15s 901ms/step - loss: 0.3867 - accuracy: 0.8379 - val_loss: 0.4666 - val_accuracy: 0.7333\n",
            "Epoch 4/10\n",
            "17/17 [==============================] - 14s 850ms/step - loss: 0.3357 - accuracy: 0.9010 - val_loss: 0.3143 - val_accuracy: 0.9400\n",
            "Epoch 5/10\n",
            "17/17 [==============================] - 14s 846ms/step - loss: 0.2992 - accuracy: 0.9183 - val_loss: 0.2874 - val_accuracy: 0.9367\n",
            "Epoch 6/10\n",
            "17/17 [==============================] - 14s 848ms/step - loss: 0.2908 - accuracy: 0.9282 - val_loss: 0.2639 - val_accuracy: 0.9433\n",
            "Epoch 7/10\n",
            "17/17 [==============================] - 14s 831ms/step - loss: 0.2632 - accuracy: 0.9369 - val_loss: 0.2618 - val_accuracy: 0.9333\n",
            "Epoch 8/10\n",
            "17/17 [==============================] - 14s 814ms/step - loss: 0.2460 - accuracy: 0.9418 - val_loss: 0.2633 - val_accuracy: 0.9167\n",
            "Epoch 9/10\n",
            "17/17 [==============================] - 14s 795ms/step - loss: 0.2472 - accuracy: 0.9344 - val_loss: 0.2463 - val_accuracy: 0.9333\n",
            "Epoch 10/10\n",
            "17/17 [==============================] - 16s 946ms/step - loss: 0.2311 - accuracy: 0.9468 - val_loss: 0.2246 - val_accuracy: 0.9500\n"
          ]
        }
      ],
      "source": [
        "history=model.fit(\n",
        "    train_generator,\n",
        "    steps_per_epoch=train_generator.samples//batch_size,\n",
        "    epochs=10,\n",
        "    validation_data=validation_generator,\n",
        "    validation_steps=validation_generator.samples//batch_size\n",
        ")"
      ]
    },
    {
      "cell_type": "code",
      "execution_count": null,
      "metadata": {
        "id": "AiT0cIifuiK7"
      },
      "outputs": [],
      "source": [
        "model.save('Spam Image Filter ResNet50.h5')"
      ]
    },
    {
      "cell_type": "code",
      "execution_count": null,
      "metadata": {
        "id": "Llp_Iaa5xOBC"
      },
      "outputs": [],
      "source": [
        "import tensorflow as tf\n",
        "from tensorflow.keras.preprocessing import image\n",
        "import numpy as np"
      ]
    },
    {
      "cell_type": "code",
      "execution_count": null,
      "metadata": {
        "id": "gURhaPY1xWlZ"
      },
      "outputs": [],
      "source": [
        "model=tf.keras.models.load_model('Spam Image Filter ResNet50.h5')"
      ]
    },
    {
      "cell_type": "code",
      "execution_count": null,
      "metadata": {
        "colab": {
          "base_uri": "https://localhost:8080/"
        },
        "id": "6pb9LVwvxr4M",
        "outputId": "812ae94b-03cd-4b1f-80ae-6058d60de325"
      },
      "outputs": [
        {
          "name": "stdout",
          "output_type": "stream",
          "text": [
            "1/1 [==============================] - 2s 2s/step\n",
            "The Image is NOT SPAM\n"
          ]
        }
      ],
      "source": [
        "def predict_spam(image_path):\n",
        "  processed_img=preprocess_image(image_path)\n",
        "  prediction=model.predict(processed_img)\n",
        "  return prediction[0][0]\n",
        "\n",
        "upload_path=('/content/drive/MyDrive/SPAM IMAGE dataset2/train/NaturalImages/zzz_02438_d5e573b6d7_m.jpg')\n",
        "prediction_result=predict_spam(upload_path)\n",
        "spam_threshold=0.8\n",
        "if prediction_result>=spam_threshold:\n",
        "  print('The Image is SPAM')\n",
        "else:\n",
        "  print('The Image is NOT SPAM')"
      ]
    }
  ],
  "metadata": {
    "accelerator": "GPU",
    "colab": {
      "provenance": []
    },
    "kernelspec": {
      "display_name": "Python 3",
      "name": "python3"
    },
    "language_info": {
      "name": "python"
    }
  },
  "nbformat": 4,
  "nbformat_minor": 0
}